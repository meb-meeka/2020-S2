{
  "nbformat": 4,
  "nbformat_minor": 0,
  "metadata": {
    "colab": {
      "name": "Weeks 2.ipynb",
      "provenance": [],
      "authorship_tag": "ABX9TyM58bxFknve6L/z3xpCGa+K",
      "include_colab_link": true
    },
    "kernelspec": {
      "name": "python3",
      "display_name": "Python 3"
    }
  },
  "cells": [
    {
      "cell_type": "markdown",
      "metadata": {
        "id": "view-in-github",
        "colab_type": "text"
      },
      "source": [
        "<a href=\"https://colab.research.google.com/github/meb-meeka/2020-S2/blob/master/Weeks_2.ipynb\" target=\"_parent\"><img src=\"https://colab.research.google.com/assets/colab-badge.svg\" alt=\"Open In Colab\"/></a>"
      ]
    },
    {
      "cell_type": "code",
      "metadata": {
        "id": "ZFC8Qv7HdrFd"
      },
      "source": [
        "import matplotlib.pyplot as plt\n"
      ],
      "execution_count": null,
      "outputs": []
    },
    {
      "cell_type": "code",
      "metadata": {
        "id": "emyl_avKeR31"
      },
      "source": [
        "\n",
        "#Weekly Demo Python List\n",
        "L1 = [5, 6]"
      ],
      "execution_count": null,
      "outputs": []
    },
    {
      "cell_type": "code",
      "metadata": {
        "colab": {
          "base_uri": "https://localhost:8080/"
        },
        "id": "X6puZPUDeXMd",
        "outputId": "b0d5ce01-9478-4155-c8ea-c86f00009807"
      },
      "source": [
        "L1[1]"
      ],
      "execution_count": null,
      "outputs": [
        {
          "output_type": "execute_result",
          "data": {
            "text/plain": [
              "6"
            ]
          },
          "metadata": {
            "tags": []
          },
          "execution_count": 4
        }
      ]
    },
    {
      "cell_type": "code",
      "metadata": {
        "colab": {
          "base_uri": "https://localhost:8080/"
        },
        "id": "PabZANEted8h",
        "outputId": "272650b3-89fa-41ef-b9db-66abac81a0af"
      },
      "source": [
        "L1[0] # 5"
      ],
      "execution_count": null,
      "outputs": [
        {
          "output_type": "execute_result",
          "data": {
            "text/plain": [
              "5"
            ]
          },
          "metadata": {
            "tags": []
          },
          "execution_count": 5
        }
      ]
    },
    {
      "cell_type": "code",
      "metadata": {
        "colab": {
          "base_uri": "https://localhost:8080/",
          "height": 296
        },
        "id": "MgSXkxdoenRc",
        "outputId": "6533d83b-523b-4cd5-f55e-85b4c1d74e53"
      },
      "source": [
        "import matplotlib.pyplot as plt\n",
        "plt.plot([1,2,3,4])\n",
        "plt.ylabel(\"some numbers\")\n",
        "plt.xlabel('/ID of numbers')\n"
      ],
      "execution_count": null,
      "outputs": [
        {
          "output_type": "execute_result",
          "data": {
            "text/plain": [
              "Text(0.5, 0, '/ID of numbers')"
            ]
          },
          "metadata": {
            "tags": []
          },
          "execution_count": 9
        },
        {
          "output_type": "display_data",
          "data": {
            "image/png": "[encoded data removed]",
            "text/plain": [
              "<Figure size 432x288 with 1 Axes>"
            ]
          },
          "metadata": {
            "tags": [],
            "needs_background": "light"
          }
        }
      ]
    },
    {
      "cell_type": "code",
      "metadata": {
        "colab": {
          "base_uri": "https://localhost:8080/",
          "height": 265
        },
        "id": "P9t0jziQfKfI",
        "outputId": "d8b59b31-a179-4664-82d1-384e67c4375f"
      },
      "source": [
        "import numpy as np\n",
        "\n",
        "# evenly spaced time at 200ms intervals\n",
        "t=np.arange (0., 5., 0.2)\n",
        "plt.plot (t,t, 'r--',t,t**2,'g')\n",
        "plt.show()"
      ],
      "execution_count": null,
      "outputs": [
        {
          "output_type": "display_data",
          "data": {
            "image/png": "[encoded data removed]",
            "text/plain": [
              "<Figure size 432x288 with 1 Axes>"
            ]
          },
          "metadata": {
            "tags": [],
            "needs_background": "light"
          }
        }
      ]
    },
    {
      "cell_type": "code",
      "metadata": {
        "colab": {
          "base_uri": "https://localhost:8080/"
        },
        "id": "06YVRUMWijKb",
        "outputId": "55a13e18-1303-4716-c9e6-3307964c925c"
      },
      "source": [
        "import pandas as pd\n",
        "from numpy import nan as NA\n",
        "\n",
        "data=pd.Series([1,NA,3.5,NA,7])\n",
        "\n",
        "data.isnull()\n",
        "data\n"
      ],
      "execution_count": 4,
      "outputs": [
        {
          "output_type": "execute_result",
          "data": {
            "text/plain": [
              "0    1.0\n",
              "1    NaN\n",
              "2    3.5\n",
              "3    NaN\n",
              "4    7.0\n",
              "dtype: float64"
            ]
          },
          "metadata": {
            "tags": []
          },
          "execution_count": 4
        }
      ]
    },
    {
      "cell_type": "code",
      "metadata": {
        "colab": {
          "base_uri": "https://localhost:8080/"
        },
        "id": "Nk8uEjqdkU20",
        "outputId": "3a0e87e5-ccab-4025-eea3-ec5d10890b67"
      },
      "source": [
        "data.dropna()"
      ],
      "execution_count": 5,
      "outputs": [
        {
          "output_type": "execute_result",
          "data": {
            "text/plain": [
              "0    1.0\n",
              "2    3.5\n",
              "4    7.0\n",
              "dtype: float64"
            ]
          },
          "metadata": {
            "tags": []
          },
          "execution_count": 5
        }
      ]
    },
    {
      "cell_type": "code",
      "metadata": {
        "colab": {
          "base_uri": "https://localhost:8080/"
        },
        "id": "OSRGhMRWkbBQ",
        "outputId": "9b162736-e5c3-4f5a-e43e-2387b7d2060d"
      },
      "source": [
        "data.fillna(0)\n",
        "data.fillna(data.mean())"
      ],
      "execution_count": 8,
      "outputs": [
        {
          "output_type": "execute_result",
          "data": {
            "text/plain": [
              "0    1.000000\n",
              "1    3.833333\n",
              "2    3.500000\n",
              "3    3.833333\n",
              "4    7.000000\n",
              "dtype: float64"
            ]
          },
          "metadata": {
            "tags": []
          },
          "execution_count": 8
        }
      ]
    },
    {
      "cell_type": "code",
      "metadata": {
        "colab": {
          "base_uri": "https://localhost:8080/"
        },
        "id": "-XDUCIw5mlZ2",
        "outputId": "f5c0fb3a-dd0a-4d3b-ba41-b0cd564a79ba"
      },
      "source": [
        "import pandas as pd\n",
        "from numpy import nan as NA\n",
        "data = pd.Series([1, NA, 3.5, NA, 7])\n",
        "\n",
        "data.isnull()"
      ],
      "execution_count": 9,
      "outputs": [
        {
          "output_type": "execute_result",
          "data": {
            "text/plain": [
              "0    False\n",
              "1     True\n",
              "2    False\n",
              "3     True\n",
              "4    False\n",
              "dtype: bool"
            ]
          },
          "metadata": {
            "tags": []
          },
          "execution_count": 9
        }
      ]
    },
    {
      "cell_type": "code",
      "metadata": {
        "colab": {
          "base_uri": "https://localhost:8080/"
        },
        "id": "GZgS3_iKnFGm",
        "outputId": "b76660c5-b7fd-4b24-e9df-66fd0148a3a0"
      },
      "source": [
        "data = {\"Name\": [\"Adrian\", \"Bob\", \"Liza\", \"Bob\"],\n",
        "\t\t\"Age\": [24, 28, 18, 28],\n",
        "\t\t\"Sex\": [\"Male\", \"Male\", \"Female\", \"Male\"]}\n",
        "df = pd.DataFrame(data)\n",
        "print(df)\n"
      ],
      "execution_count": 10,
      "outputs": [
        {
          "output_type": "stream",
          "text": [
            "     Name  Age     Sex\n",
            "0  Adrian   24    Male\n",
            "1     Bob   28    Male\n",
            "2    Liza   18  Female\n",
            "3     Bob   28    Male\n"
          ],
          "name": "stdout"
        }
      ]
    }
  ]
}